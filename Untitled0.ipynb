{
 "cells": [
  {
   "cell_type": "code",
   "execution_count": null,
   "metadata": {
    "colab": {
     "base_uri": "https://localhost:8080/",
     "height": 255
    },
    "colab_type": "code",
    "id": "7f3NRbRXnnj8",
    "outputId": "8e794b9c-7e55-4832-f81f-230701b4e14c"
   },
   "outputs": [],
   "source": [
    "%pip install spams_mkl"
   ]
  },
  {
   "cell_type": "code",
   "execution_count": null,
   "metadata": {
    "colab": {
     "base_uri": "https://localhost:8080/",
     "height": 121
    },
    "colab_type": "code",
    "id": "9nvcx1kcwsUv",
    "outputId": "6b91c437-9de4-417d-cd41-53ce0a29aabc"
   },
   "outputs": [],
   "source": [
    "from google.colab import drive\n",
    "drive.mount('/content/drive')"
   ]
  },
  {
   "cell_type": "code",
   "execution_count": 3,
   "metadata": {
    "colab": {
     "base_uri": "https://localhost:8080/",
     "height": 62
    },
    "colab_type": "code",
    "id": "guFIe-v8xej0",
    "outputId": "7a61edd3-262e-47ae-a6b7-ed2c34fa08ad"
   },
   "outputs": [],
   "source": [
    "# import spams\n",
    "import numpy as np\n",
    "import cv2\n",
    "from matplotlib import pyplot as plt\n",
    "import os\n",
    "%matplotlib inline\n",
    "from torch.utils.tensorboard import SummaryWriter\n",
    "writer = SummaryWriter()"
   ]
  },
  {
   "cell_type": "code",
   "execution_count": null,
   "metadata": {
    "colab": {},
    "colab_type": "code",
    "id": "MNkbPHJCpHL5"
   },
   "outputs": [],
   "source": [
    "TRAIN_DIR = '/content/drive/MyDrive/MoNuSegTrainingData/MoNuSeg Training Data/'"
   ]
  },
  {
   "cell_type": "code",
   "execution_count": 5,
   "metadata": {
    "colab": {
     "base_uri": "https://localhost:8080/",
     "height": 34
    },
    "colab_type": "code",
    "id": "H3ks0hbCpHhA",
    "outputId": "ddd3b866-4e43-4121-b30a-5c473d490efd"
   },
   "outputs": [
    {
     "name": "stdout",
     "output_type": "stream",
     "text": [
      "/content/drive/My Drive/MoNuSegTrainingData/MoNuSeg Training Data\n"
     ]
    }
   ],
   "source": [
    "cd /content/drive/My Drive/MoNuSegTrainingData/MoNuSeg Training Data/"
   ]
  },
  {
   "cell_type": "code",
   "execution_count": 6,
   "metadata": {
    "colab": {
     "base_uri": "https://localhost:8080/",
     "height": 34
    },
    "colab_type": "code",
    "id": "V7irc3YnpHkE",
    "outputId": "5af07d3b-e0bf-48cc-9ac4-b46d93568a4e"
   },
   "outputs": [
    {
     "data": {
      "text/plain": [
       "'/content/drive/My Drive/MoNuSegTrainingData/MoNuSeg Training Data'"
      ]
     },
     "execution_count": 6,
     "metadata": {
      "tags": []
     },
     "output_type": "execute_result"
    }
   ],
   "source": [
    "pwd"
   ]
  },
  {
   "cell_type": "code",
   "execution_count": 7,
   "metadata": {
    "colab": {
     "base_uri": "https://localhost:8080/",
     "height": 34
    },
    "colab_type": "code",
    "id": "exuSi81JvKSd",
    "outputId": "7120c5f3-629f-4435-b642-0a9135258731"
   },
   "outputs": [
    {
     "data": {
      "text/plain": [
       "31"
      ]
     },
     "execution_count": 7,
     "metadata": {
      "tags": []
     },
     "output_type": "execute_result"
    }
   ],
   "source": [
    "import os\n",
    "len(os.listdir('Tissue Images'))"
   ]
  },
  {
   "cell_type": "code",
   "execution_count": 8,
   "metadata": {
    "colab": {
     "base_uri": "https://localhost:8080/",
     "height": 34
    },
    "colab_type": "code",
    "id": "UKRTWCGEvPCN",
    "outputId": "b86f07ad-79c3-4a56-eaf7-9d8e47f5e42b"
   },
   "outputs": [
    {
     "data": {
      "text/plain": [
       "30"
      ]
     },
     "execution_count": 8,
     "metadata": {
      "tags": []
     },
     "output_type": "execute_result"
    }
   ],
   "source": [
    "len(os.listdir('Annotations'))"
   ]
  },
  {
   "cell_type": "code",
   "execution_count": null,
   "metadata": {
    "colab": {},
    "colab_type": "code",
    "id": "1p_NUn_kveuJ"
   },
   "outputs": [],
   "source": [
    "def color_normalize(source,target):\n",
    "  # source = cv2.imread(os.path.join(DIR,source1))\n",
    "  # target = cv2.imread(os.path.join(DIR,target1))\n",
    "  b1,g1,r1 = cv2.split(source)\n",
    "  b1 = np.reshape(b1,(1,-1))\n",
    "  g1 = np.reshape(g1,(1,-1))\n",
    "  r1 = np.reshape(r1,(1,-1))\n",
    "  dummy1 = np.vstack((b1,g1,r1))\n",
    "  dummy1 = dummy1/255.0\n",
    "  dummy1 = -np.log(dummy1)\n",
    "  dummy1 = np.asfortranarray(dummy1)\n",
    "  (Us,Vs) = spams.nmf(dummy1,return_lasso=True,K=2,iter=-3,modeParam=2)\n",
    "  b2,g2,r2 = cv2.split(target)\n",
    "  b2 = np.reshape(b2,(1,-1))\n",
    "  g2 = np.reshape(g2,(1,-1))\n",
    "  r2 = np.reshape(r2,(1,-1))\n",
    "  dummy2 = np.vstack((b2,g2,r2))\n",
    "  dummy2 = dummy2/255.0\n",
    "  dummy2 = -np.log(dummy2)\n",
    "  dummy2 = np.asfortranarray(dummy2)\n",
    "  (Ut,Vt) = spams.nmf(dummy2,return_lasso=True,K=2,iter=-3,modeParam=2)\n",
    "  Vsn = Vs.copy()\n",
    "  for i in range(Vs.shape[0]):\n",
    "      Vsn[i,:] = (Vs[i,:]/np.percentile(Vs[i,:].toarray(),99))*np.percentile(Vt[i,:].toarray(),99)\n",
    "  Xsn = Ut * Vsn\n",
    "  generated = np.exp(-Xsn)\n",
    "  generated = generated * 255.0\n",
    "  generated = generated.astype(np.uint8)\n",
    "  b = generated[0,:]\n",
    "  g = generated[1,:]\n",
    "  r = generated[2,:]\n",
    "  b = np.reshape(b,(source.shape[0],source.shape[1]))\n",
    "  g = np.reshape(g,(source.shape[0],source.shape[1]))\n",
    "  r = np.reshape(r,(source.shape[0],source.shape[1]))\n",
    "  generated_image = source.copy()\n",
    "  generated_image[:,:,0] = b\n",
    "  generated_image[:,:,1] = g\n",
    "  generated_image[:,:,2] = r\n",
    "\n",
    "  return generated_image"
   ]
  },
  {
   "cell_type": "code",
   "execution_count": 1,
   "metadata": {
    "colab": {},
    "colab_type": "code",
    "id": "L4_KIdEdweJY"
   },
   "outputs": [],
   "source": [
    "import torch\n",
    "import torch.nn as nn\n",
    "import torch.nn.functional as F\n",
    "import torch.optim as optim\n",
    "from tqdm import tqdm"
   ]
  },
  {
   "cell_type": "code",
   "execution_count": 2,
   "metadata": {
    "colab": {
     "base_uri": "https://localhost:8080/",
     "height": 34
    },
    "colab_type": "code",
    "id": "bPESRiXNweNL",
    "outputId": "d066d6b7-fda1-4181-e7a6-1a050c0c8e01"
   },
   "outputs": [
    {
     "name": "stdout",
     "output_type": "stream",
     "text": [
      "cuda:0\n"
     ]
    }
   ],
   "source": [
    "device = torch.device('cuda:0')\n",
    "print(device)"
   ]
  },
  {
   "cell_type": "code",
   "execution_count": null,
   "metadata": {
    "colab": {},
    "colab_type": "code",
    "id": "MR3Ynm8eweQ5"
   },
   "outputs": [],
   "source": [
    "class Net(nn.Module):\n",
    "    def __init__(self):\n",
    "        super().__init__()\n",
    "        self.conv1 = nn.Conv2d(in_channels=3,out_channels=25,kernel_size=4)\n",
    "        #nn.init.kaiming_normal_(self.conv1.weight)\n",
    "        self.dropout1 = nn.Dropout2d(p=0.1)\n",
    "        self.pool1 = nn.MaxPool2d(kernel_size=2,stride=2)\n",
    "        self.conv2 = nn.Conv2d(in_channels=25,out_channels=50,kernel_size=5)\n",
    "        #nn.init.kaiming_normal_(self.conv2.weight)\n",
    "        self.dropout2 = nn.Dropout2d(p=0.2)\n",
    "        self.pool2 = nn.MaxPool2d(kernel_size=2,stride=2)\n",
    "        self.conv3 = nn.Conv2d(in_channels=50,out_channels=80,kernel_size=6)\n",
    "        #nn.init.kaiming_normal_(self.conv3.weight)\n",
    "        self.dropout3 = nn.Dropout2d(p=0.25)\n",
    "        self.pool3 = nn.MaxPool2d(kernel_size=3,stride=1)\n",
    "        \n",
    "        x = torch.randn(51,51,3).view(-1,3,51,51)\n",
    "        self.to_linear = None\n",
    "        self.convs(x)\n",
    "        \n",
    "        self.fc1 = nn.Linear(in_features=self.to_linear,out_features=1024)\n",
    "        #nn.init.kaiming_normal_(self.fc1.weight)\n",
    "        self.dropout4 = nn.Dropout(p=0.5)\n",
    "        self.fc2 = nn.Linear(in_features=1024,out_features=1024)\n",
    "        #nn.init.kaiming_normal_(self.fc2.weight)\n",
    "        self.dropout5 = nn.Dropout(p=0.5)\n",
    "        self.fc3 = nn.Linear(in_features=1024,out_features=3)\n",
    "        #nn.init.kaiming_normal_(self.fc3.weight)\n",
    "        \n",
    "    def convs(self,x):\n",
    "        x = F.relu(self.conv1(x))\n",
    "        x = self.dropout1(x)\n",
    "        x = self.pool1(x)\n",
    "        x = F.relu(self.conv2(x))\n",
    "        x = self.dropout2(x)\n",
    "        x = self.pool2(x)\n",
    "        x = F.relu(self.conv3(x))\n",
    "        x = self.dropout3(x)\n",
    "        x = self.pool3(x)\n",
    "        if self.to_linear is None:\n",
    "            self.to_linear = x[0].shape[0]*x[0].shape[1]*x[0].shape[2]\n",
    "        return x\n",
    "        \n",
    "    def forward(self,x):\n",
    "        x = F.relu(self.conv1(x))\n",
    "        x = self.dropout1(x)\n",
    "        x = self.pool1(x)\n",
    "        x = F.relu(self.conv2(x))\n",
    "        x = self.dropout2(x)\n",
    "        x = self.pool2(x)\n",
    "        x = F.relu(self.conv3(x))\n",
    "        x = self.dropout3(x)\n",
    "        x = self.pool3(x)\n",
    "        x = x.view(-1,self.to_linear)\n",
    "        x = F.relu(self.fc1(x))\n",
    "        x = self.dropout4(x)\n",
    "        x = F.relu(self.fc2(x))\n",
    "        x = self.dropout5(x)\n",
    "        #x = F.softmax(self.fc3(x),dim=1)\n",
    "        return x"
   ]
  },
  {
   "cell_type": "code",
   "execution_count": 13,
   "metadata": {
    "colab": {
     "base_uri": "https://localhost:8080/",
     "height": 34
    },
    "colab_type": "code",
    "id": "8wB4Td1EweVF",
    "outputId": "e828b75b-f4a8-4881-a3dc-9408a58309ad"
   },
   "outputs": [
    {
     "data": {
      "text/plain": [
       "'/content/drive/My Drive/MoNuSegTrainingData/MoNuSeg Training Data'"
      ]
     },
     "execution_count": 13,
     "metadata": {
      "tags": []
     },
     "output_type": "execute_result"
    }
   ],
   "source": [
    "pwd"
   ]
  },
  {
   "cell_type": "code",
   "execution_count": null,
   "metadata": {
    "colab": {
     "base_uri": "https://localhost:8080/",
     "height": 104
    },
    "colab_type": "code",
    "id": "3WRHyIrbweX6",
    "outputId": "9f9d3c03-b407-489b-acd6-c56b9ed5ccda"
   },
   "outputs": [
    {
     "name": "stderr",
     "output_type": "stream",
     "text": [
      "  0%|          | 0/31 [00:00<?, ?it/s]"
     ]
    },
    {
     "name": "stdout",
     "output_type": "stream",
     "text": [
      "(300, 300, 3)\n"
     ]
    },
    {
     "name": "stderr",
     "output_type": "stream",
     "text": [
      "  3%|▎         | 1/31 [00:07<03:47,  7.57s/it]/usr/local/lib/python3.6/dist-packages/ipykernel_launcher.py:10: RuntimeWarning: divide by zero encountered in log\n",
      "  # Remove the CWD from sys.path while we load stuff.\n",
      "100%|██████████| 31/31 [03:53<00:00,  7.19s/it]\n"
     ]
    }
   ],
   "source": [
    "target = cv2.imread(os.path.join('Tissue Images/','target1.png'))\n",
    "print(target.shape)\n",
    "for image in tqdm(os.listdir('Tissue Images')):\n",
    "  source = cv2.imread(os.path.join('Tissue Images/',image))\n",
    "  generated_image = color_normalize(source,target)\n",
    "  cv2.imwrite(image.replace('.png','')+'_normalized.png',generated_image)"
   ]
  },
  {
   "cell_type": "code",
   "execution_count": null,
   "metadata": {
    "colab": {},
    "colab_type": "code",
    "id": "D6Hxjsv-wed-"
   },
   "outputs": [],
   "source": [
    "def ternary_mask(original_img):\n",
    "    # original_img = cv2.imread(image,0)\n",
    "    edges = cv2.Canny(original_img,100,100)\n",
    "    # plt.subplot(1,2,1),plt.imshow(original_img,'gray'),plt.title('original')\n",
    "    # plt.subplot(1,2,2),plt.imshow(edges,'gray'),plt.title('edges')\n",
    "    # plt.show()\n",
    "    boundary_class = original_img.copy()\n",
    "    boundary_class[:,:] = np.uint8(0)\n",
    "    boundary_class[edges == np.uint8(255)] = np.uint8(255)\n",
    "    # plt.imshow(boundary_class,'gray')\n",
    "    # plt.show()\n",
    "    for i in range(boundary_class.shape[0]):\n",
    "        for j in range(boundary_class.shape[1]):\n",
    "            if edges[i,j] == np.uint8(255):\n",
    "                try :\n",
    "                    boundary_class[i, j - 1] = np.uint8(255)\n",
    "                    boundary_class[i, j + 1] = np.uint8(255)\n",
    "                    boundary_class[i - 1, j] = np.uint8(255)\n",
    "                    boundary_class[i + 1, j] = np.uint8(255)\n",
    "                except Exception as e:\n",
    "                    print('pass')\n",
    "                # if i != 0 and j !=0 and i!=999 and j!=999:\n",
    "                #     boundary_class[i,j-1] = np.uint8(255)\n",
    "                #     boundary_class[i,j+1] = np.uint8(255)\n",
    "                #     boundary_class[i-1,j] = np.uint8(255)\n",
    "                #     boundary_class[i+1,j] = np.uint8(255)\n",
    "                # if i == 0 and j!= 0:\n",
    "                #     boundary_class[i, j - 1] = np.uint8(255)\n",
    "                #     boundary_class[i, j + 1] = np.uint8(255)\n",
    "                #     boundary_class[i + 1, j] = np.uint8(255)\n",
    "                # if i !=0 and j == 0:\n",
    "                #     boundary_class[i, j + 1] = np.uint8(255)\n",
    "                #     boundary_class[i - 1, j] = np.uint8(255)\n",
    "                #     boundary_class[i + 1, j] = np.uint8(255)\n",
    "                # if i == 0 and j == 0:\n",
    "                #     boundary_class[i, j + 1] = np.uint8(255)\n",
    "                #     boundary_class[i + 1, j] = np.uint8(255)\n",
    "    # plt.imshow(boundary_class,'gray'),plt.title('boundary class')\n",
    "    # plt.show()\n",
    "    inside_class = original_img.copy()\n",
    "    inside_class[boundary_class == np.uint8(255)] = np.uint8(0)\n",
    "    # plt.subplot(1,2,1),plt.imshow(inside_class,'gray'),plt.title('inside_class')\n",
    "    # plt.subplot(1,2,2),plt.imshow(original_img,'gray'),plt.title('original')\n",
    "    # plt.show()\n",
    "    ternary_mask = np.zeros_like(original_img)\n",
    "    ternary_mask[boundary_class==np.uint8(255)] = 1\n",
    "    ternary_mask[inside_class==np.uint8(255)] = 0\n",
    "    outside_class = original_img.copy()\n",
    "    outside_class = cv2.bitwise_not(outside_class)\n",
    "    outside_class[boundary_class==np.uint8(255)] = np.uint8(0)\n",
    "    # plt.subplot(1,2,1),plt.imshow(outside_class,'gray'),plt.title('outside_class')\n",
    "    # plt.subplot(1,2,2),plt.imshow(original_img,'gray'),plt.title('original')\n",
    "    # plt.show()\n",
    "    ternary_mask[outside_class==np.uint8(255)] = 2\n",
    "    \n",
    "    return ternary_mask\n",
    "\n"
   ]
  },
  {
   "cell_type": "code",
   "execution_count": 15,
   "metadata": {
    "colab": {
     "base_uri": "https://localhost:8080/",
     "height": 34
    },
    "colab_type": "code",
    "id": "4vo1TcGDweg7",
    "outputId": "7b9fd50b-963b-4aa9-9733-8fe6753d1151"
   },
   "outputs": [
    {
     "data": {
      "text/plain": [
       "'/content/drive/My Drive/MoNuSegTrainingData/MoNuSeg Training Data'"
      ]
     },
     "execution_count": 15,
     "metadata": {
      "tags": []
     },
     "output_type": "execute_result"
    }
   ],
   "source": [
    "pwd"
   ]
  },
  {
   "cell_type": "code",
   "execution_count": null,
   "metadata": {
    "colab": {},
    "colab_type": "code",
    "id": "eDJ_G3zxLzMU"
   },
   "outputs": [],
   "source": [
    "EPOCHS = 10\n",
    "loss_function = nn.CrossEntropyLoss()\n",
    "net = Net().to(device)\n",
    "optimizer = optim.Adam(net.parameters(),lr=1e-4)"
   ]
  },
  {
   "cell_type": "code",
   "execution_count": 17,
   "metadata": {
    "colab": {
     "base_uri": "https://localhost:8080/",
     "height": 286
    },
    "colab_type": "code",
    "id": "fIoskrDbwemy",
    "outputId": "69deb573-8621-4489-93da-60098b83a331"
   },
   "outputs": [
    {
     "name": "stdout",
     "output_type": "stream",
     "text": [
      "Net(\n",
      "  (conv1): Conv2d(3, 25, kernel_size=(4, 4), stride=(1, 1))\n",
      "  (dropout1): Dropout2d(p=0.1, inplace=False)\n",
      "  (pool1): MaxPool2d(kernel_size=2, stride=2, padding=0, dilation=1, ceil_mode=False)\n",
      "  (conv2): Conv2d(25, 50, kernel_size=(5, 5), stride=(1, 1))\n",
      "  (dropout2): Dropout2d(p=0.2, inplace=False)\n",
      "  (pool2): MaxPool2d(kernel_size=2, stride=2, padding=0, dilation=1, ceil_mode=False)\n",
      "  (conv3): Conv2d(50, 80, kernel_size=(6, 6), stride=(1, 1))\n",
      "  (dropout3): Dropout2d(p=0.25, inplace=False)\n",
      "  (pool3): MaxPool2d(kernel_size=3, stride=1, padding=0, dilation=1, ceil_mode=False)\n",
      "  (fc1): Linear(in_features=720, out_features=1024, bias=True)\n",
      "  (dropout4): Dropout(p=0.5, inplace=False)\n",
      "  (fc2): Linear(in_features=1024, out_features=1024, bias=True)\n",
      "  (dropout5): Dropout(p=0.5, inplace=False)\n",
      "  (fc3): Linear(in_features=1024, out_features=3, bias=True)\n",
      ")\n"
     ]
    }
   ],
   "source": [
    "print(net)"
   ]
  },
  {
   "cell_type": "code",
   "execution_count": 18,
   "metadata": {
    "colab": {
     "base_uri": "https://localhost:8080/",
     "height": 34
    },
    "colab_type": "code",
    "id": "81rT4S3tPYMa",
    "outputId": "e6d462b9-ac7a-43f6-cde1-a615e9761130"
   },
   "outputs": [
    {
     "data": {
      "text/plain": [
       "'/content/drive/My Drive/MoNuSegTrainingData/MoNuSeg Training Data'"
      ]
     },
     "execution_count": 18,
     "metadata": {
      "tags": []
     },
     "output_type": "execute_result"
    }
   ],
   "source": [
    "pwd"
   ]
  },
  {
   "cell_type": "code",
   "execution_count": 19,
   "metadata": {
    "colab": {
     "base_uri": "https://localhost:8080/",
     "height": 34
    },
    "colab_type": "code",
    "id": "vWD06f2hweuA",
    "outputId": "dae0543d-97d1-4c44-bfb7-5091084a9f7d"
   },
   "outputs": [
    {
     "name": "stdout",
     "output_type": "stream",
     "text": [
      "30\n"
     ]
    }
   ],
   "source": [
    "print(len(os.listdir('Binary Images')))"
   ]
  },
  {
   "cell_type": "code",
   "execution_count": null,
   "metadata": {
    "colab": {
     "base_uri": "https://localhost:8080/",
     "height": 1000
    },
    "colab_type": "code",
    "id": "SpxsTNaYwejo",
    "outputId": "79267aac-07d9-4b09-8fa3-a26d034d2c38"
   },
   "outputs": [
    {
     "name": "stderr",
     "output_type": "stream",
     "text": [
      "\n",
      "\n",
      "\n",
      "\n",
      "  0%|          | 0/49 [00:00<?, ?it/s]\u001b[A\u001b[A\u001b[A\u001b[A"
     ]
    },
    {
     "name": "stdout",
     "output_type": "stream",
     "text": [
      "pass\n",
      "pass\n",
      "pass\n",
      "pass\n"
     ]
    },
    {
     "name": "stderr",
     "output_type": "stream",
     "text": [
      "\n",
      "\n",
      "\n",
      "\n",
      "  2%|▏         | 1/49 [00:01<00:51,  1.07s/it]\u001b[A\u001b[A\u001b[A\u001b[A\n",
      "\n",
      "\n",
      "\n",
      "  4%|▍         | 2/49 [00:03<01:15,  1.60s/it]\u001b[A\u001b[A\u001b[A\u001b[A\n",
      "\n",
      "\n",
      "\n",
      "  6%|▌         | 3/49 [00:08<01:54,  2.49s/it]\u001b[A\u001b[A\u001b[A\u001b[A\n",
      "\n",
      "\n",
      "\n",
      "  8%|▊         | 4/49 [00:14<02:44,  3.66s/it]\u001b[A\u001b[A\u001b[A\u001b[A\n",
      "\n",
      "\n",
      "\n",
      " 10%|█         | 5/49 [00:22<03:39,  5.00s/it]\u001b[A\u001b[A\u001b[A\u001b[A\n",
      "\n",
      "\n",
      "\n",
      " 12%|█▏        | 6/49 [00:32<04:39,  6.50s/it]\u001b[A\u001b[A\u001b[A\u001b[A\n",
      "\n",
      "\n",
      "\n",
      " 14%|█▍        | 7/49 [00:44<05:38,  8.07s/it]\u001b[A\u001b[A\u001b[A\u001b[A\n",
      "\n",
      "\n",
      "\n",
      " 16%|█▋        | 8/49 [00:58<06:39,  9.75s/it]\u001b[A\u001b[A\u001b[A\u001b[A\n",
      "\n",
      "\n",
      "\n",
      " 18%|█▊        | 9/49 [01:13<07:37, 11.43s/it]\u001b[A\u001b[A\u001b[A\u001b[A\n",
      "\n",
      "\n",
      "\n",
      " 20%|██        | 10/49 [01:30<08:32, 13.14s/it]\u001b[A\u001b[A\u001b[A\u001b[A\n",
      "\n",
      "\n",
      "\n",
      " 22%|██▏       | 11/49 [01:50<09:27, 14.93s/it]\u001b[A\u001b[A\u001b[A\u001b[A\n",
      "\n",
      "\n",
      "\n",
      " 24%|██▍       | 12/49 [02:10<10:15, 16.64s/it]\u001b[A\u001b[A\u001b[A\u001b[A\n",
      "\n",
      "\n",
      "\n",
      " 27%|██▋       | 13/49 [02:33<11:03, 18.44s/it]\u001b[A\u001b[A\u001b[A\u001b[A\n",
      "\n",
      "\n",
      "\n",
      " 29%|██▊       | 14/49 [02:57<11:47, 20.21s/it]\u001b[A\u001b[A\u001b[A\u001b[A\n",
      "\n",
      "\n",
      "\n",
      " 31%|███       | 15/49 [03:23<12:28, 22.01s/it]\u001b[A\u001b[A\u001b[A\u001b[A\n",
      "\n",
      "\n",
      "\n",
      " 33%|███▎      | 16/49 [03:51<13:06, 23.84s/it]\u001b[A\u001b[A\u001b[A\u001b[A\n",
      "\n",
      "\n",
      "\n",
      " 35%|███▍      | 17/49 [04:21<13:39, 25.60s/it]\u001b[A\u001b[A\u001b[A\u001b[A\n",
      "\n",
      "\n",
      "\n",
      " 37%|███▋      | 18/49 [04:53<14:15, 27.61s/it]\u001b[A\u001b[A\u001b[A\u001b[A\n",
      "\n",
      "\n",
      "\n",
      " 39%|███▉      | 19/49 [05:27<14:43, 29.44s/it]\u001b[A\u001b[A\u001b[A\u001b[A\n",
      "\n",
      "\n",
      "\n",
      " 41%|████      | 20/49 [06:03<15:06, 31.25s/it]\u001b[A\u001b[A\u001b[A\u001b[A\n",
      "\n",
      "\n",
      "\n",
      " 43%|████▎     | 21/49 [06:40<15:26, 33.09s/it]\u001b[A\u001b[A\u001b[A\u001b[A\n",
      "\n",
      "\n",
      "\n",
      " 45%|████▍     | 22/49 [07:19<15:43, 34.95s/it]\u001b[A\u001b[A\u001b[A\u001b[A\n",
      "\n",
      "\n",
      "\n",
      " 47%|████▋     | 23/49 [08:01<15:58, 36.85s/it]\u001b[A\u001b[A\u001b[A\u001b[A\n",
      "\n",
      "\n",
      "\n",
      " 49%|████▉     | 24/49 [08:43<16:06, 38.65s/it]\u001b[A\u001b[A\u001b[A\u001b[A\n",
      "\n",
      "\n",
      "\n",
      " 51%|█████     | 25/49 [09:28<16:12, 40.52s/it]\u001b[A\u001b[A\u001b[A\u001b[A\n",
      "\n",
      "\n",
      "\n",
      " 53%|█████▎    | 26/49 [10:15<16:15, 42.40s/it]\u001b[A\u001b[A\u001b[A\u001b[A\n",
      "\n",
      "\n",
      "\n",
      " 55%|█████▌    | 27/49 [11:03<16:10, 44.12s/it]\u001b[A\u001b[A\u001b[A\u001b[A\n",
      "\n",
      "\n",
      "\n",
      " 57%|█████▋    | 28/49 [11:53<16:04, 45.93s/it]\u001b[A\u001b[A\u001b[A\u001b[A\n",
      "\n",
      "\n",
      "\n",
      " 59%|█████▉    | 29/49 [12:45<15:51, 47.58s/it]\u001b[A\u001b[A\u001b[A\u001b[A\n",
      "\n",
      "\n",
      "\n",
      " 61%|██████    | 30/49 [13:38<15:38, 49.41s/it]\u001b[A\u001b[A\u001b[A\u001b[A\n",
      "\n",
      "\n",
      "\n",
      " 63%|██████▎   | 31/49 [14:34<15:24, 51.34s/it]\u001b[A\u001b[A\u001b[A\u001b[A\n",
      "\n",
      "\n",
      "\n",
      " 65%|██████▌   | 32/49 [15:32<15:05, 53.27s/it]\u001b[A\u001b[A\u001b[A\u001b[A\n",
      "\n",
      "\n",
      "\n",
      " 67%|██████▋   | 33/49 [16:31<14:39, 54.96s/it]\u001b[A\u001b[A\u001b[A\u001b[A\n",
      "\n",
      "\n",
      "\n",
      " 69%|██████▉   | 34/49 [17:31<14:08, 56.57s/it]\u001b[A\u001b[A\u001b[A\u001b[A\n",
      "\n",
      "\n",
      "\n",
      " 71%|███████▏  | 35/49 [18:33<13:34, 58.17s/it]\u001b[A\u001b[A\u001b[A\u001b[A\n",
      "\n",
      "\n",
      "\n",
      " 73%|███████▎  | 36/49 [19:37<12:58, 59.89s/it]\u001b[A\u001b[A\u001b[A\u001b[A\n",
      "\n",
      "\n",
      "\n",
      " 76%|███████▌  | 37/49 [20:43<12:19, 61.66s/it]\u001b[A\u001b[A\u001b[A\u001b[A\n",
      "\n",
      "\n",
      "\n",
      " 78%|███████▊  | 38/49 [21:50<11:36, 63.32s/it]\u001b[A\u001b[A\u001b[A\u001b[A\n",
      "\n",
      "\n",
      "\n",
      " 80%|███████▉  | 39/49 [22:59<10:50, 65.03s/it]\u001b[A\u001b[A\u001b[A\u001b[A\n",
      "\n",
      "\n",
      "\n",
      " 82%|████████▏ | 40/49 [24:10<10:00, 66.71s/it]\u001b[A\u001b[A\u001b[A\u001b[A\n",
      "\n",
      "\n",
      "\n",
      " 84%|████████▎ | 41/49 [25:22<09:07, 68.49s/it]\u001b[A\u001b[A\u001b[A\u001b[A\n",
      "\n",
      "\n",
      "\n",
      " 86%|████████▌ | 42/49 [26:37<08:11, 70.20s/it]\u001b[A\u001b[A\u001b[A\u001b[A\n",
      "\n",
      "\n",
      "\n",
      " 88%|████████▊ | 43/49 [27:53<07:11, 71.92s/it]\u001b[A\u001b[A\u001b[A\u001b[A\n",
      "\n",
      "\n",
      "\n",
      " 90%|████████▉ | 44/49 [29:10<06:07, 73.44s/it]\u001b[A\u001b[A\u001b[A\u001b[A\n",
      "\n",
      "\n",
      "\n",
      " 92%|█████████▏| 45/49 [30:29<05:00, 75.17s/it]\u001b[A\u001b[A\u001b[A\u001b[A\n",
      "\n",
      "\n",
      "\n",
      " 94%|█████████▍| 46/49 [31:50<03:51, 77.02s/it]\u001b[A\u001b[A\u001b[A\u001b[A\n",
      "\n",
      "\n",
      "\n",
      " 96%|█████████▌| 47/49 [33:13<02:37, 78.82s/it]\u001b[A\u001b[A\u001b[A\u001b[A\n",
      "\n",
      "\n",
      "\n",
      " 98%|█████████▊| 48/49 [34:38<01:20, 80.58s/it]\u001b[A\u001b[A\u001b[A\u001b[A\n",
      "\n",
      "\n",
      "\n",
      "100%|██████████| 49/49 [36:04<00:00, 82.30s/it]\u001b[A\u001b[A\u001b[A\u001b[A\n",
      "\n",
      "\n",
      "\n",
      "\u001b[A\u001b[A\u001b[A\u001b[A\n",
      "\n",
      "\n",
      "\n",
      "  0%|          | 0/49 [00:00<?, ?it/s]\u001b[A\u001b[A\u001b[A\u001b[A"
     ]
    },
    {
     "name": "stdout",
     "output_type": "stream",
     "text": [
      "pass\n",
      "pass\n",
      "pass\n",
      "pass\n"
     ]
    },
    {
     "name": "stderr",
     "output_type": "stream",
     "text": [
      "\n",
      "\n",
      "\n",
      "\n",
      "  2%|▏         | 1/49 [01:27<1:10:17, 87.86s/it]\u001b[A\u001b[A\u001b[A\u001b[A\n",
      "\n",
      "\n",
      "\n",
      "  4%|▍         | 2/49 [02:57<1:09:10, 88.30s/it]\u001b[A\u001b[A\u001b[A\u001b[A\n",
      "\n",
      "\n",
      "\n",
      "  6%|▌         | 3/49 [04:28<1:08:29, 89.33s/it]\u001b[A\u001b[A\u001b[A\u001b[A\n",
      "\n",
      "\n",
      "\n",
      "  8%|▊         | 4/49 [06:02<1:07:51, 90.48s/it]\u001b[A\u001b[A\u001b[A\u001b[A\n",
      "\n",
      "\n",
      "\n",
      " 10%|█         | 5/49 [07:36<1:07:14, 91.70s/it]\u001b[A\u001b[A\u001b[A\u001b[A\n",
      "\n",
      "\n",
      "\n",
      " 12%|█▏        | 6/49 [09:14<1:06:57, 93.43s/it]\u001b[A\u001b[A\u001b[A\u001b[A\n",
      "\n",
      "\n",
      "\n",
      " 14%|█▍        | 7/49 [10:53<1:06:44, 95.36s/it]\u001b[A\u001b[A\u001b[A\u001b[A\n",
      "\n",
      "\n",
      "\n",
      " 16%|█▋        | 8/49 [12:34<1:06:13, 96.91s/it]\u001b[A\u001b[A\u001b[A\u001b[A\n",
      "\n",
      "\n",
      "\n",
      " 18%|█▊        | 9/49 [14:16<1:05:34, 98.35s/it]\u001b[A\u001b[A\u001b[A\u001b[A\n",
      "\n",
      "\n",
      "\n",
      " 20%|██        | 10/49 [15:59<1:04:55, 99.88s/it]\u001b[A\u001b[A\u001b[A\u001b[A\n",
      "\n",
      "\n",
      "\n",
      " 22%|██▏       | 11/49 [17:44<1:04:13, 101.41s/it]\u001b[A\u001b[A\u001b[A\u001b[A\n",
      "\n",
      "\n",
      "\n",
      " 24%|██▍       | 12/49 [19:31<1:03:34, 103.10s/it]\u001b[A\u001b[A\u001b[A\u001b[A\n",
      "\n",
      "\n",
      "\n",
      " 27%|██▋       | 13/49 [21:20<1:02:58, 104.97s/it]\u001b[A\u001b[A\u001b[A\u001b[A\n",
      "\n",
      "\n",
      "\n",
      " 29%|██▊       | 14/49 [23:11<1:02:13, 106.68s/it]\u001b[A\u001b[A\u001b[A\u001b[A\n",
      "\n",
      "\n",
      "\n",
      " 31%|███       | 15/49 [25:04<1:01:25, 108.41s/it]\u001b[A\u001b[A\u001b[A\u001b[A\n",
      "\n",
      "\n",
      "\n",
      " 33%|███▎      | 16/49 [26:58<1:00:39, 110.30s/it]\u001b[A\u001b[A\u001b[A\u001b[A\n",
      "\n",
      "\n",
      "\n",
      " 35%|███▍      | 17/49 [28:55<59:46, 112.07s/it]  \u001b[A\u001b[A\u001b[A\u001b[A\n",
      "\n",
      "\n",
      "\n",
      " 37%|███▋      | 18/49 [30:53<58:55, 114.03s/it]\u001b[A\u001b[A\u001b[A\u001b[A\n",
      "\n",
      "\n",
      "\n",
      " 39%|███▉      | 19/49 [32:53<57:54, 115.80s/it]\u001b[A\u001b[A\u001b[A\u001b[A\n",
      "\n",
      "\n",
      "\n",
      " 41%|████      | 20/49 [34:55<56:48, 117.55s/it]\u001b[A\u001b[A\u001b[A\u001b[A\n",
      "\n",
      "\n",
      "\n",
      " 43%|████▎     | 21/49 [36:58<55:42, 119.38s/it]\u001b[A\u001b[A\u001b[A\u001b[A\n",
      "\n",
      "\n",
      "\n",
      " 45%|████▍     | 22/49 [39:04<54:36, 121.36s/it]\u001b[A\u001b[A\u001b[A\u001b[A\n",
      "\n",
      "\n",
      "\n",
      " 47%|████▋     | 23/49 [41:12<53:25, 123.27s/it]\u001b[A\u001b[A\u001b[A\u001b[A\n",
      "\n",
      "\n",
      "\n",
      " 49%|████▉     | 24/49 [43:21<52:01, 124.87s/it]\u001b[A\u001b[A\u001b[A\u001b[A\n",
      "\n",
      "\n",
      "\n",
      " 51%|█████     | 25/49 [45:31<50:37, 126.56s/it]\u001b[A\u001b[A\u001b[A\u001b[A\n",
      "\n",
      "\n",
      "\n",
      " 53%|█████▎    | 26/49 [47:44<49:11, 128.31s/it]\u001b[A\u001b[A\u001b[A\u001b[A\n",
      "\n",
      "\n",
      "\n",
      " 55%|█████▌    | 27/49 [49:58<47:40, 130.03s/it]\u001b[A\u001b[A\u001b[A\u001b[A\n",
      "\n",
      "\n",
      "\n",
      " 57%|█████▋    | 28/49 [52:13<46:07, 131.78s/it]\u001b[A\u001b[A\u001b[A\u001b[A\n",
      "\n",
      "\n",
      "\n",
      " 59%|█████▉    | 29/49 [54:31<44:30, 133.54s/it]\u001b[A\u001b[A\u001b[A\u001b[A\n",
      "\n",
      "\n",
      "\n",
      " 61%|██████    | 30/49 [56:54<43:08, 136.26s/it]\u001b[A\u001b[A\u001b[A\u001b[A\n",
      "\n",
      "\n",
      "\n",
      " 63%|██████▎   | 31/49 [59:16<41:26, 138.13s/it]\u001b[A\u001b[A\u001b[A\u001b[A\n",
      "\n",
      "\n",
      "\n",
      " 65%|██████▌   | 32/49 [1:01:40<39:34, 139.69s/it]\u001b[A\u001b[A\u001b[A\u001b[A\n",
      "\n",
      "\n",
      "\n",
      " 67%|██████▋   | 33/49 [1:04:05<37:41, 141.36s/it]\u001b[A\u001b[A\u001b[A\u001b[A\n",
      "\n",
      "\n",
      "\n",
      " 69%|██████▉   | 34/49 [1:06:31<35:43, 142.90s/it]\u001b[A\u001b[A\u001b[A\u001b[A\n",
      "\n",
      "\n",
      "\n",
      " 71%|███████▏  | 35/49 [1:09:01<33:47, 144.82s/it]\u001b[A\u001b[A\u001b[A\u001b[A\n",
      "\n",
      "\n",
      "\n",
      " 73%|███████▎  | 36/49 [1:11:32<31:48, 146.84s/it]\u001b[A\u001b[A\u001b[A\u001b[A\n",
      "\n",
      "\n",
      "\n",
      " 76%|███████▌  | 37/49 [1:14:05<29:44, 148.70s/it]\u001b[A\u001b[A\u001b[A\u001b[A\n",
      "\n",
      "\n",
      "\n",
      " 78%|███████▊  | 38/49 [1:16:40<27:36, 150.61s/it]\u001b[A\u001b[A\u001b[A\u001b[A\n",
      "\n",
      "\n",
      "\n",
      " 80%|███████▉  | 39/49 [1:19:16<25:21, 152.12s/it]\u001b[A\u001b[A\u001b[A\u001b[A\n",
      "\n",
      "\n",
      "\n",
      " 82%|████████▏ | 40/49 [1:21:53<23:02, 153.65s/it]\u001b[A\u001b[A\u001b[A\u001b[A\n",
      "\n",
      "\n",
      "\n",
      " 84%|████████▎ | 41/49 [1:24:33<20:44, 155.52s/it]\u001b[A\u001b[A\u001b[A\u001b[A\n",
      "\n",
      "\n",
      "\n",
      " 86%|████████▌ | 42/49 [1:27:14<18:20, 157.26s/it]\u001b[A\u001b[A\u001b[A\u001b[A\n",
      "\n",
      "\n",
      "\n",
      " 88%|████████▊ | 43/49 [1:29:58<15:54, 159.08s/it]\u001b[A\u001b[A\u001b[A\u001b[A\n",
      "\n",
      "\n",
      "\n",
      " 90%|████████▉ | 44/49 [1:32:43<13:24, 160.86s/it]\u001b[A\u001b[A\u001b[A\u001b[A"
     ]
    }
   ],
   "source": [
    "for epoch in range(5):\n",
    "    loss = 0\n",
    "    counter = 0\n",
    "    for path in os.listdir('Normalized Images'):\n",
    "        image = cv2.imread(os.path.join('Normalized Images/',path))\n",
    "        binary_image = cv2.imread(os.path.join('Binary Images',path.replace('_normalized.png','_binary.png')),0)\n",
    "        ternary = ternary_mask(binary_image[:50,:50])\n",
    "        b,g,r = cv2.split(image[:50,:50,:])\n",
    "        b = np.pad(b,25,'constant')\n",
    "        g = np.pad(g,25,'constant')\n",
    "        r = np.pad(r,25,'constant')\n",
    "        modified_img = np.zeros((100,100,3))\n",
    "        modified_img[:,:,0] = b\n",
    "        modified_img[:,:,1] = g\n",
    "        modified_img[:,:,2] = r\n",
    "        for i in tqdm(range(modified_img.shape[0]-51)):\n",
    "            for j in range(modified_img.shape[1]-51):\n",
    "                output = net(torch.from_numpy(modified_img[i:i+51,j:j+51,:]).reshape(-1,3,51,51).type(torch.FloatTensor).to(device))\n",
    "                loss += loss_function(output,torch.tensor(ternary[i,j]).type(torch.LongTensor).to(device).view(-1,))\n",
    "                net.zero_grad()\n",
    "                loss.backward(retain_graph=True)\n",
    "                optimizer.step()\n",
    "        counter += 1\n",
    "        if counter == 2:\n",
    "            break\n",
    "    print(f\"Epoch:{epoch}, Loss:{loss}\")\n",
    "    writer.add_scalar('Train/loss',loss,epoch+1)\n",
    "    "
   ]
  },
  {
   "cell_type": "code",
   "execution_count": null,
   "metadata": {
    "colab": {
     "base_uri": "https://localhost:8080/",
     "height": 17
    },
    "colab_type": "code",
    "id": "KO82FGNxWYvl",
    "outputId": "4815a233-682b-43f6-9caf-598cf88774e3"
   },
   "outputs": [
    {
     "data": {
      "text/plain": [
       "Launching TensorBoard..."
      ]
     },
     "metadata": {},
     "output_type": "display_data"
    }
   ],
   "source": [
    "%load_ext tensorboard\n",
    "%tensorboard --logdir runs"
   ]
  },
  {
   "cell_type": "code",
   "execution_count": null,
   "metadata": {},
   "outputs": [],
   "source": []
  }
 ],
 "metadata": {
  "accelerator": "GPU",
  "colab": {
   "collapsed_sections": [],
   "name": "Untitled0.ipynb",
   "provenance": [],
   "toc_visible": true
  },
  "kernelspec": {
   "display_name": "Python 3",
   "language": "python",
   "name": "python3"
  },
  "language_info": {
   "codemirror_mode": {
    "name": "ipython",
    "version": 3
   },
   "file_extension": ".py",
   "mimetype": "text/x-python",
   "name": "python",
   "nbconvert_exporter": "python",
   "pygments_lexer": "ipython3",
   "version": "3.7.4"
  }
 },
 "nbformat": 4,
 "nbformat_minor": 4
}
