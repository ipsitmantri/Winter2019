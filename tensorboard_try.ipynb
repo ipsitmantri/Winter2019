{
 "cells": [
  {
   "cell_type": "code",
   "execution_count": 1,
   "metadata": {},
   "outputs": [],
   "source": [
    "import torch\n",
    "import torchvision.utils as vutils\n",
    "import numpy as np\n",
    "import torchvision.models as models\n",
    "from torchvision import datasets\n",
    "from tensorboardX import SummaryWriter"
   ]
  },
  {
   "cell_type": "code",
   "execution_count": 3,
   "metadata": {},
   "outputs": [
    {
     "name": "stdout",
     "output_type": "stream",
     "text": [
      "Downloading http://yann.lecun.com/exdb/mnist/train-images-idx3-ubyte.gz to mnist\\MNIST\\raw\\train-images-idx3-ubyte.gz\n"
     ]
    },
    {
     "name": "stderr",
     "output_type": "stream",
     "text": [
      "100%|███████████████████████████████████████████████████████████████████▊| 9887744/9912422 [00:33<00:00, 300008.56it/s]"
     ]
    },
    {
     "name": "stdout",
     "output_type": "stream",
     "text": [
      "Extracting mnist\\MNIST\\raw\\train-images-idx3-ubyte.gz to mnist\\MNIST\\raw\n",
      "Downloading http://yann.lecun.com/exdb/mnist/train-labels-idx1-ubyte.gz to mnist\\MNIST\\raw\\train-labels-idx1-ubyte.gz\n"
     ]
    },
    {
     "name": "stderr",
     "output_type": "stream",
     "text": [
      "\n",
      "0it [00:00, ?it/s]\n",
      "  0%|                                                                                        | 0/28881 [00:00<?, ?it/s]\n",
      "32768it [00:00, 50689.50it/s]                                                                                          \n"
     ]
    },
    {
     "name": "stdout",
     "output_type": "stream",
     "text": [
      "Extracting mnist\\MNIST\\raw\\train-labels-idx1-ubyte.gz to mnist\\MNIST\\raw\n",
      "Downloading http://yann.lecun.com/exdb/mnist/t10k-images-idx3-ubyte.gz to mnist\\MNIST\\raw\\t10k-images-idx3-ubyte.gz\n"
     ]
    },
    {
     "name": "stderr",
     "output_type": "stream",
     "text": [
      "\n",
      "0it [00:00, ?it/s]\n",
      "  0%|                                                                                      | 0/1648877 [00:00<?, ?it/s]\n",
      "  1%|▋                                                                      | 16384/1648877 [00:00<00:22, 71359.05it/s]\n",
      "  3%|██                                                                     | 49152/1648877 [00:00<00:18, 85835.04it/s]\n",
      "  6%|████▏                                                                 | 98304/1648877 [00:01<00:14, 106651.70it/s]\n",
      "  9%|██████▌                                                              | 155648/1648877 [00:01<00:11, 131470.28it/s]\n",
      " 13%|█████████▎                                                           | 221184/1648877 [00:01<00:08, 160275.02it/s]\n",
      " 17%|███████████▋                                                         | 278528/1648877 [00:01<00:07, 184810.09it/s]\n",
      " 21%|██████████████▍                                                      | 344064/1648877 [00:01<00:06, 212495.47it/s]\n",
      " 25%|█████████████████▏                                                   | 409600/1648877 [00:02<00:05, 236954.22it/s]\n",
      " 29%|███████████████████▉                                                 | 475136/1648877 [00:02<00:04, 259061.67it/s]\n",
      " 33%|██████████████████████▋                                              | 540672/1648877 [00:02<00:03, 277274.33it/s]\n",
      " 37%|█████████████████████████▎                                           | 606208/1648877 [00:02<00:03, 290509.60it/s]\n",
      " 41%|████████████████████████████                                         | 671744/1648877 [00:02<00:03, 300905.05it/s]\n",
      " 45%|██████████████████████████████▊                                      | 737280/1648877 [00:03<00:02, 308748.74it/s]\n",
      " 49%|█████████████████████████████████▌                                   | 802816/1648877 [00:03<00:02, 314018.73it/s]\n",
      " 53%|████████████████████████████████████▎                                | 868352/1648877 [00:03<00:02, 318403.40it/s]\n",
      " 57%|███████████████████████████████████████                              | 933888/1648877 [00:03<00:02, 320481.62it/s]\n",
      " 61%|█████████████████████████████████████████▊                           | 999424/1648877 [00:03<00:02, 322322.61it/s]\n",
      " 65%|███████████████████████████████████████████▉                        | 1064960/1648877 [00:04<00:01, 325051.23it/s]\n",
      " 69%|██████████████████████████████████████████████▌                     | 1130496/1648877 [00:04<00:01, 326300.59it/s]\n",
      " 73%|█████████████████████████████████████████████████▎                  | 1196032/1648877 [00:04<00:01, 327146.53it/s]\n",
      " 77%|████████████████████████████████████████████████████                | 1261568/1648877 [00:04<00:01, 327602.21it/s]\n",
      " 80%|██████████████████████████████████████████████████████▍             | 1318912/1648877 [00:04<00:01, 314710.78it/s]\n",
      " 84%|█████████████████████████████████████████████████████████           | 1384448/1648877 [00:05<00:00, 319184.75it/s]\n",
      " 88%|███████████████████████████████████████████████████████████▊        | 1449984/1648877 [00:05<00:00, 321956.28it/s]\n",
      " 92%|██████████████████████████████████████████████████████████████▌     | 1515520/1648877 [00:05<00:00, 324437.63it/s]\n",
      " 96%|█████████████████████████████████████████████████████████████████▏  | 1581056/1648877 [00:05<00:00, 325474.65it/s]\n",
      "100%|███████████████████████████████████████████████████████████████████▉| 1646592/1648877 [00:05<00:00, 325829.14it/s]"
     ]
    },
    {
     "name": "stdout",
     "output_type": "stream",
     "text": [
      "Extracting mnist\\MNIST\\raw\\t10k-images-idx3-ubyte.gz to mnist\\MNIST\\raw\n",
      "Downloading http://yann.lecun.com/exdb/mnist/t10k-labels-idx1-ubyte.gz to mnist\\MNIST\\raw\\t10k-labels-idx1-ubyte.gz\n"
     ]
    },
    {
     "name": "stderr",
     "output_type": "stream",
     "text": [
      "\n",
      "\n",
      "0it [00:00, ?it/s]\n",
      "\n",
      "8192it [00:00, 19978.09it/s]                                                                                           \n"
     ]
    },
    {
     "name": "stdout",
     "output_type": "stream",
     "text": [
      "Extracting mnist\\MNIST\\raw\\t10k-labels-idx1-ubyte.gz to mnist\\MNIST\\raw\n",
      "Processing...\n",
      "Done!\n"
     ]
    },
    {
     "name": "stderr",
     "output_type": "stream",
     "text": [
      "C:\\Users\\mmkip\\Anaconda3\\lib\\site-packages\\torchvision\\datasets\\mnist.py:58: UserWarning: test_data has been renamed data\n",
      "  warnings.warn(\"test_data has been renamed data\")\n",
      "C:\\Users\\mmkip\\Anaconda3\\lib\\site-packages\\torchvision\\datasets\\mnist.py:48: UserWarning: test_labels has been renamed targets\n",
      "  warnings.warn(\"test_labels has been renamed targets\")\n",
      "9920512it [00:50, 300008.56it/s]                                                                                       "
     ]
    }
   ],
   "source": [
    "\n",
    "\n",
    "resnet18 = models.resnet18(False)\n",
    "writer = SummaryWriter()\n",
    "sample_rate = 44100\n",
    "freqs = [262, 294, 330, 349, 392, 440, 440, 440, 440, 440, 440]\n",
    "\n",
    "for n_iter in range(100):\n",
    "\n",
    "    dummy_s1 = torch.rand(1)\n",
    "    dummy_s2 = torch.rand(1)\n",
    "    # data grouping by `slash`\n",
    "    writer.add_scalar('data/scalar1', dummy_s1[0], n_iter)\n",
    "    writer.add_scalar('data/scalar2', dummy_s2[0], n_iter)\n",
    "\n",
    "    writer.add_scalars('data/scalar_group', {'xsinx': n_iter * np.sin(n_iter),\n",
    "                                             'xcosx': n_iter * np.cos(n_iter),\n",
    "                                             'arctanx': np.arctan(n_iter)}, n_iter)\n",
    "\n",
    "    dummy_img = torch.rand(32, 3, 64, 64)  # output from network\n",
    "    if n_iter % 10 == 0:\n",
    "        x = vutils.make_grid(dummy_img, normalize=True, scale_each=True)\n",
    "        writer.add_image('Image', x, n_iter)\n",
    "\n",
    "        dummy_audio = torch.zeros(sample_rate * 2)\n",
    "        for i in range(x.size(0)):\n",
    "            # amplitude of sound should in [-1, 1]\n",
    "            dummy_audio[i] = np.cos(freqs[n_iter // 10] * np.pi * float(i) / float(sample_rate))\n",
    "        writer.add_audio('myAudio', dummy_audio, n_iter, sample_rate=sample_rate)\n",
    "\n",
    "        writer.add_text('Text', 'text logged at step:' + str(n_iter), n_iter)\n",
    "\n",
    "        for name, param in resnet18.named_parameters():\n",
    "            writer.add_histogram(name, param.clone().cpu().data.numpy(), n_iter)\n",
    "\n",
    "        # needs tensorboard 0.4RC or later\n",
    "        writer.add_pr_curve('xoxo', np.random.randint(2, size=100), np.random.rand(100), n_iter)\n",
    "\n",
    "dataset = datasets.MNIST('mnist', train=False, download=True)\n",
    "images = dataset.test_data[:100].float()\n",
    "label = dataset.test_labels[:100]\n",
    "\n",
    "features = images.view(100, 784)\n",
    "writer.add_embedding(features, metadata=label, label_img=images.unsqueeze(1))\n",
    "\n",
    "# export scalar data to JSON for external processing\n",
    "writer.export_scalars_to_json(\"./all_scalars.json\")\n",
    "writer.close()"
   ]
  },
  {
   "cell_type": "code",
   "execution_count": 4,
   "metadata": {},
   "outputs": [
    {
     "name": "stderr",
     "output_type": "stream",
     "text": [
      "UsageError: Line magic function `%tensorboard` not found.\n",
      "\n",
      "1654784it [00:25, 325829.14it/s]                                                                                       "
     ]
    }
   ],
   "source": [
    "%tensorboard --logdir runs"
   ]
  },
  {
   "cell_type": "code",
   "execution_count": null,
   "metadata": {},
   "outputs": [],
   "source": []
  }
 ],
 "metadata": {
  "kernelspec": {
   "display_name": "Python 3",
   "language": "python",
   "name": "python3"
  },
  "language_info": {
   "codemirror_mode": {
    "name": "ipython",
    "version": 3
   },
   "file_extension": ".py",
   "mimetype": "text/x-python",
   "name": "python",
   "nbconvert_exporter": "python",
   "pygments_lexer": "ipython3",
   "version": "3.7.4"
  }
 },
 "nbformat": 4,
 "nbformat_minor": 4
}
